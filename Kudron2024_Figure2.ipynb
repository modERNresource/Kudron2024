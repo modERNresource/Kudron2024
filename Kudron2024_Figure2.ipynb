{
 "cells": [
  {
   "cell_type": "code",
   "execution_count": null,
   "metadata": {},
   "outputs": [],
   "source": [
    "library(ggplot2)\n",
    "     library(dplyr)\n",
    "     library(grid)\n",
    "    library(ggrepel)\n",
    "    library(reshape2)\n",
    "    library(ggpubr)\n",
    "\n"
   ]
  },
  {
   "cell_type": "code",
   "execution_count": null,
   "metadata": {},
   "outputs": [],
   "source": [
    "# Figure 2, panel a\n",
    "\n",
    "my_theme <- theme( legend.position =\"none\",\n",
    "                  text = element_text(size = 16 ),\n",
    "                        axis.line = element_line(),\n",
    "                        axis.text.x = element_text(angle = 45, hjust = 1, vjust = 1),\n",
    "                        panel.grid.major = element_blank(),\n",
    "                        panel.grid.minor = element_blank(),\n",
    "                        panel.background = element_blank()) \n",
    "\n",
    "df <- read.table(\"remanei_per_cluster_codingExon_random.nozero.no_gap_penalty.metapeaks\", header = T)\n",
    "\n",
    "pre <- ggplot(df, aes(x = region, y = conservation_score, fill = region)) +\n",
    "  geom_violin(alpha = 1.0) + labs(title=\"worm\") +\n",
    "my_theme +  labs(x = \"region type\", y = \"conservation\")\n",
    "#  geom_point(size=0.00001, position = position_jitter(seed = 1, width = 0.05)) + my_theme +  labs(x = \"region type\", y = \"conservation\")\n",
    "\n",
    "\n",
    "\n",
    "p <- pre + scale_x_discrete(labels = c(\"coding_exon\" = \"coding exon\",\n",
    "    \"metapeaks\" = \"metapeaks\",\n",
    "\"random\" = \"random\"))\n",
    "panela <- p\n",
    "p\n"
   ]
  },
  {
   "cell_type": "code",
   "execution_count": null,
   "metadata": {},
   "outputs": [],
   "source": [
    "# Figure 2, panel b\n",
    "df <- read.table(\"droVir_per_cluster_codingExon_random.nozero.no_gap_penalty.metapeaks\", header = T)\n",
    "\n",
    "pre <- ggplot(df, aes(x = region, y = conservation_score, fill = region)) +\n",
    "  geom_violin(alpha = 1.0) + labs(title = \"fly\") + my_theme +  labs(x = \"region type\", y = \"conservation\")\n",
    "\n",
    "\n",
    "p <- pre + scale_x_discrete(labels = c(\"coding_exon\" = \"coding exon\",\n",
    "    \"metapeaks\" = \"metapeaks\",\n",
    "\"random\" = \"random\"))\n",
    "panelb <- p\n",
    "p\n"
   ]
  },
  {
   "cell_type": "code",
   "execution_count": null,
   "metadata": {},
   "outputs": [],
   "source": [
    "# Figure 2, panel c\n",
    "my_theme <- theme( legend.position =\"none\",\n",
    "                  text = element_text(size = 16),\n",
    "                        axis.line = element_line(),\n",
    "                        axis.text.x = element_text(angle = 45, hjust = 1, vjust = 1),\n",
    "                        panel.grid.major = element_blank(),\n",
    "                        panel.grid.minor = element_blank(),\n",
    "                        panel.background = element_blank())\n",
    "df <- read.table(\"elegans_conservation_all_fullclusters_score_fcn_of_peaks_remanei.format.smallGapPenalty.nozero\", header = T)\n",
    "\n",
    "pre <- ggplot(df, aes(x = peaks, y = conservation_score, fill = peaks)) +\n",
    "  geom_violin(alpha = 1.0) +\n",
    " my_theme + labs(title = \"worm\")\n",
    "\n",
    "p <- pre + scale_x_discrete(labels = c(\"a_1_peak\" = \"1\",\n",
    "    \"b_2to6_peaks\" = \"2-6\",\n",
    "\"c_7to30_peaks\" = \"7-30\",\n",
    "\"d_31to84_peaks\" = \"31-84\",\n",
    "\"e_85to244_peaks\" = \"85-244\",\n",
    "\"f_244to900_peaks\" = \"245-900\"))\n",
    "\n",
    "\n",
    "panelc <- p\n"
   ]
  },
  {
   "cell_type": "code",
   "execution_count": null,
   "metadata": {},
   "outputs": [],
   "source": [
    "# Figure 2, panel d\n",
    "my_theme <- theme( legend.position =\"none\",\n",
    "                  text = element_text(size = 16),\n",
    "                        axis.line = element_line(),\n",
    "                        axis.text.x = element_text(angle = 45, hjust = 1, vjust = 1),\n",
    "                        panel.grid.major = element_blank(),\n",
    "                        panel.grid.minor = element_blank(),\n",
    "                        panel.background = element_blank())\n",
    "df <- read.table(\"melanogaster_conservation_all_fullclusters_score_fcn_of_peaks_droVir.smallGapPenalty.nozero\", header = T)\n",
    "                \n",
    "\n",
    "pre <- ggplot(df, aes(x = peaks, y = conservation_score, fill = peaks)) +\n",
    "  geom_violin(alpha = 1.0) +\n",
    " my_theme + labs(title = \"fly\")\n",
    "\n",
    "\n",
    "p <- pre + scale_x_discrete(labels = c(\"a_1_peak\" = \"1\",\n",
    "    \"b_2to8_peaks\" = \"2-8\",\n",
    "\"c_9to52_peaks\" = \"9-52\",\n",
    "\"d_53to276_peaks\" = \"53-276\",\n",
    "\"e_277to602_peaks\" = \"277-602\",\n",
    "\"f_603to1958_peaks\" = \"603-1958\"))\n",
    "\n",
    "p\n",
    "paneld <- p\n"
   ]
  },
  {
   "cell_type": "code",
   "execution_count": null,
   "metadata": {},
   "outputs": [],
   "source": []
  },
  {
   "cell_type": "code",
   "execution_count": null,
   "metadata": {},
   "outputs": [],
   "source": [
    "# Figure 2\n",
    "figure <- ggarrange (panela, panelb, panelc, paneld,\n",
    "                    labels = c(\"A\", \"B\", \"C\", \"D\"),\n",
    "                     ncol=2, nrow=2\n",
    "                    ) \n",
    "figure\n",
    "pdf(\"Fig2.pdf\")\n",
    "figure\n",
    "dev.off()"
   ]
  }
 ],
 "metadata": {
  "kernelspec": {
   "display_name": "R",
   "language": "R",
   "name": "ir"
  },
  "language_info": {
   "codemirror_mode": "r",
   "file_extension": ".r",
   "mimetype": "text/x-r-source",
   "name": "R",
   "pygments_lexer": "r",
   "version": "4.0.2"
  }
 },
 "nbformat": 4,
 "nbformat_minor": 4
}

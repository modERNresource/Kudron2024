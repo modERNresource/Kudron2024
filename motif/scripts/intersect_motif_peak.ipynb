{
 "cells": [
  {
   "cell_type": "code",
   "execution_count": null,
   "id": "f41a11c0",
   "metadata": {},
   "outputs": [],
   "source": [
    "import os\n",
    "import pandas as pd\n",
    "import numpy as np"
   ]
  },
  {
   "cell_type": "code",
   "execution_count": null,
   "id": "9873694c",
   "metadata": {},
   "outputs": [],
   "source": [
    "# slurm joblist to intersect each motif with the Peak file\n",
    "os.makedirs(\"../result/peak_vs_motif/PublishedOptimalWormPeaks_motif/\", exist_ok=True)\n",
    "files = os.listdir(\"/home/jg2447/slayman/motifs/FIMO/ce11_InferAndDirect/\")\n",
    "with open(\"joblist_fimo\", \"w\") as ff:\n",
    "    for motif in files:\n",
    "        ff.write(\"module load BEDTools; bedtools intersect -a ../data/PeakFiles/PublishedOptimalWormPeaks -b /home/jg2447/slayman/motifs/FIMO/ce11_InferAndDirect/{motif} -c > ../result/peak_vs_motif/PublishedOptimalWormPeaks_motif/{motif}\\n\".format(motif=motif))"
   ]
  },
  {
   "cell_type": "code",
   "execution_count": null,
   "id": "773c8071",
   "metadata": {},
   "outputs": [],
   "source": [
    "# all chipped TFs\n",
    "df = pd.read_csv(\"../data/PeakFiles/PublishedOptimalWormPeaks\", sep=\"\\t\", header=None)\n",
    "TFs = df[3].str.split(\"_\", expand=True)[0].unique()\n",
    "TFs_noP = [ii.replace(\"(\", \"\").replace(\")\", \"\") for ii in TFs]\n",
    "noP2P = pd.Series(TFs, index=TFs_noP).to_dict()\n",
    "\n",
    "# all motifs\n",
    "files = [ii.replace(\".bed\", \"\") for ii in os.listdir(\"../result/peak_vs_motif/PublishedOptimalWormPeaks_motif/\")]\n",
    "\n",
    "# overlap TF list\n",
    "overlap_TF_noP = list(set.intersection(set(files), set(TFs_noP)))\n",
    "overlap_TF_P = [noP2P[ii] for ii in overlap_TF_noP]"
   ]
  },
  {
   "cell_type": "code",
   "execution_count": null,
   "id": "7da433fe",
   "metadata": {},
   "outputs": [],
   "source": [
    "# init empty motif list for each peak\n",
    "df = pd.read_csv(\"../result/peak_vs_motif/PublishedOptimalWormPeaks_motif/%s.bed\" % files[0], sep=\"\\t\", header=None)\n",
    "target = []\n",
    "for tt in range(df.shape[0]):\n",
    "    target.append(\"\")\n",
    "\n",
    "# add the intersected motif for each peak\n",
    "for f in overlap_TF_noP:\n",
    "    df = pd.read_csv(\"../result/peak_vs_motif/PublishedOptimalWormPeaks_motif/%s.bed\" % f, sep=\"\\t\", header=None)\n",
    "    valid_id = np.array(range(df.shape[0]))[df[10] != 0]\n",
    "    for vid in valid_id:\n",
    "        target[vid] = target[vid] + \",\" + noP2P[f]\n",
    "target_final = [ii.lstrip(\",\") for ii in target]\n",
    "\n",
    "# save\n",
    "with open(\"../result/peak_vs_motif/PublishedOptimalWormPeaks_motif.txt\", \"w\") as ff:\n",
    "    for ii in target_final:\n",
    "        ff.write(ii+\"\\n\")"
   ]
  }
 ],
 "metadata": {
  "kernelspec": {
   "display_name": "Python 3 (ipykernel)",
   "language": "python",
   "name": "python3"
  },
  "language_info": {
   "codemirror_mode": {
    "name": "ipython",
    "version": 3
   },
   "file_extension": ".py",
   "mimetype": "text/x-python",
   "name": "python",
   "nbconvert_exporter": "python",
   "pygments_lexer": "ipython3",
   "version": "3.9.19"
  }
 },
 "nbformat": 4,
 "nbformat_minor": 5
}

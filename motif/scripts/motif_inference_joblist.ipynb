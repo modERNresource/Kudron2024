{
 "cells": [
  {
   "cell_type": "code",
   "execution_count": null,
   "id": "4cb46bea",
   "metadata": {
    "scrolled": true
   },
   "outputs": [],
   "source": [
    "import os\n",
    "import pybedtools\n",
    "import pandas as pd"
   ]
  },
  {
   "cell_type": "code",
   "execution_count": null,
   "id": "44ec6d13",
   "metadata": {},
   "outputs": [],
   "source": [
    "sp = \"Fly\"\n",
    "gv = \"dm6\""
   ]
  },
  {
   "cell_type": "code",
   "execution_count": null,
   "id": "8e9453ab",
   "metadata": {},
   "outputs": [],
   "source": [
    "all_peaks = pd.read_csv(\"../data/PeakFiles/%sTFPeaksPrimaryTargets.tsv\" % sp, sep=\"\\t\")\n",
    "genome_fasta = \"/home/jg2447/slayman/genome/%s.fa\" % gv\n",
    "chr2len = pd.read_csv(genome_fasta+\".fai\", sep=\"\\t\", header=None, index_col=0)[1].to_dict()\n",
    "cluster_info = pd.read_csv(\"../data/PeakFiles/%sMetaPeaksPrimaryTargets.tsv\" % sp, sep=\"\\t\")\n",
    "cluster2size = cluster_info.set_index(\"metaPeak\")[\"numPeaks\"].to_dict()"
   ]
  },
  {
   "cell_type": "code",
   "execution_count": null,
   "id": "90842096",
   "metadata": {},
   "outputs": [],
   "source": [
    "for suffix in [\"AllPeaks\", \"Top20Percent\", \"Top20PercentRandom_Rep1\", \"Top20PercentRandom_Rep2\", \"Top20PercentRandom_Rep3\", \"RemoveHOT\", \"RemoveHOTRandom_Rep1\", \"RemoveHOTRandom_Rep2\", \"RemoveHOTRandom_Rep3\", \"RemoveUltraHOT\", \"RemoveUltraHOTRandom_Rep1\", \"RemoveUltraHOTRandom_Rep2\", \"RemoveUltraHOTRandom_Rep3\"]:\n",
    "    os.makedirs(\"../result/motif/%sBed_%s\" % (sp, suffix), exist_ok=True)\n",
    "    for peak_name, peak_df in all_peaks.groupby(\"experiment\"):\n",
    "        peak_name = peak_name.replace(\"(\", \"\").replace(\")\", \"\")\n",
    "        peak_df[\"chr_max\"] = peak_df[\"chrom\"].map(chr2len)\n",
    "        peak_df.loc[peak_df[\"chromEnd\"] >= peak_df[\"chr_max\"], \"chromEnd\"] = peak_df.loc[peak_df[\"chromEnd\"] >= peak_df[\"chr_max\"], \"chr_max\"].values\n",
    "        if suffix == \"AllPeaks\":\n",
    "            peak_df = peak_df.sort_values(\"signalValue\", ascending=False).iloc[:, [0,1,2]]\n",
    "\n",
    "        elif suffix == \"Top20Percent\":\n",
    "            npeaks = int(peak_df.shape[0] * 0.2)\n",
    "            peak_df = peak_df.sort_values(\"signalValue\", ascending=False).iloc[:npeaks, [0,1,2]]\n",
    "        elif suffix.startswith(\"Top20PercentRandom\"):\n",
    "            npeaks = int(peak_df.shape[0] * 0.2)\n",
    "            rs = int(suffix.split(\"_Rep\")[1])\n",
    "            peak_df = peak_df.sample(npeaks, random_state=rs)\n",
    "            peak_df = peak_df.sort_values(\"signalValue\", ascending=False).iloc[:, [0,1,2]]\n",
    "\n",
    "        elif suffix == \"RemoveHOT\":\n",
    "            peak_df[\"metaPeak_size\"] = peak_df[\"metaPeak\"].map(cluster2size)\n",
    "            if sp == \"Fly\":\n",
    "                peak_df = peak_df[(peak_df[\"metaPeak_size\"] < 277)].sort_values(\"signalValue\", ascending=False).iloc[:, [0,1,2]]\n",
    "            elif sp == \"Worm\":\n",
    "                peak_df = peak_df[(peak_df[\"metaPeak_size\"] < 85)].sort_values(\"signalValue\", ascending=False).iloc[:, [0,1,2]]\n",
    "        elif suffix == \"RemoveUltraHOT\":\n",
    "            peak_df[\"metaPeak_size\"] = peak_df[\"metaPeak\"].map(cluster2size)\n",
    "            if sp == \"Fly\":\n",
    "                peak_df = peak_df[(peak_df[\"metaPeak_size\"] < 53)].sort_values(\"signalValue\", ascending=False).iloc[:, [0,1,2]]\n",
    "            elif sp == \"Worm\":\n",
    "                peak_df = peak_df[(peak_df[\"metaPeak_size\"] < 31)].sort_values(\"signalValue\", ascending=False).iloc[:, [0,1,2]]\n",
    "\n",
    "        elif suffix.startswith(\"RemoveHOTRandom\"):\n",
    "            peak_df[\"metaPeak_size\"] = peak_df[\"metaPeak\"].map(cluster2size)\n",
    "            if sp == \"Fly\":\n",
    "                sub_n = peak_df[(peak_df[\"metaPeak_size\"] < 277)].shape[0]  \n",
    "            elif sp == \"Worm\":\n",
    "                sub_n = peak_df[(peak_df[\"metaPeak_size\"] < 85)].shape[0]\n",
    "            rs = int(suffix.split(\"_Rep\")[1])\n",
    "            peak_df = peak_df.sample(sub_n, random_state=rs)\n",
    "            peak_df = peak_df.sort_values(\"signalValue\", ascending=False).iloc[:, [0,1,2]]\n",
    "\n",
    "        elif suffix.startswith(\"RemoveUltraHOTRandom\"):\n",
    "            peak_df[\"metaPeak_size\"] = peak_df[\"metaPeak\"].map(cluster2size)\n",
    "            if sp == \"Fly\":\n",
    "                sub_n = peak_df[(peak_df[\"metaPeak_size\"] < 53)].shape[0]  \n",
    "            elif sp == \"Worm\":\n",
    "                sub_n = peak_df[(peak_df[\"metaPeak_size\"] < 31)].shape[0]\n",
    "            rs = int(suffix.split(\"_Rep\")[1])\n",
    "            peak_df = peak_df.sample(sub_n, random_state=rs)\n",
    "            peak_df = peak_df.sort_values(\"signalValue\", ascending=False).iloc[:, [0,1,2]]\n",
    "\n",
    "        if peak_df.shape[0] > 2:\n",
    "            peak_df.to_csv(\"../result/motif/%sBed_%s/%s.bed\" % (sp, suffix, peak_name), sep=\"\\t\", header=False, index=False)\n",
    "\n",
    "    os.makedirs(\"../result/motif/%sFasta_%s/\" % (sp, suffix), exist_ok=True)\n",
    "    files = [ii.replace(\".bed\", \"\") for ii in os.listdir(\"../result/motif/%sBed_%s/\" % (sp, suffix)) if ii.endswith(\".bed\")]\n",
    "    for ff in files:\n",
    "        bed = pybedtools.BedTool(\"../result/motif/%sBed_%s/%s.bed\" % (sp, suffix, ff))\n",
    "        bed.sequence(fi=genome_fasta).save_seqs(\"../result/motif/%sFasta_%s/%s.fasta\" % (sp, suffix, ff))\n",
    "\n",
    "    os.makedirs(\"../result/motif/%sSTREME_%s/\" % (sp, suffix), exist_ok=True)\n",
    "    files = [ii.replace(\".fasta\", \"\") for ii in os.listdir(\"../result/motif/%sFasta_%s/\" % (sp, suffix)) if ii.endswith(\".fasta\")]\n",
    "    with open(\"./joblist_%s_%s\" % (sp, suffix), \"w\") as f:\n",
    "        for ff in files:\n",
    "            f.write(\"module load MEME; streme --p ../result/motif/%sFasta_%s/%s.fasta --oc ../result/motif/%sSTREME_%s/%s/ --verbosity 1\\n\" % (sp, suffix, ff, sp, suffix, ff))"
   ]
  }
 ],
 "metadata": {
  "kernelspec": {
   "display_name": "Python 3 (ipykernel)",
   "language": "python",
   "name": "python3"
  },
  "language_info": {
   "codemirror_mode": {
    "name": "ipython",
    "version": 3
   },
   "file_extension": ".py",
   "mimetype": "text/x-python",
   "name": "python",
   "nbconvert_exporter": "python",
   "pygments_lexer": "ipython3",
   "version": "3.9.19"
  }
 },
 "nbformat": 4,
 "nbformat_minor": 5
}
